{
 "cells": [
  {
   "cell_type": "code",
   "execution_count": 1,
   "id": "02955c40-a3b2-4386-82c8-a9ee445820b4",
   "metadata": {
    "tags": []
   },
   "outputs": [
    {
     "ename": "ModuleNotFoundError",
     "evalue": "No module named 'oneflow'",
     "output_type": "error",
     "traceback": [
      "\u001b[0;31m---------------------------------------------------------------------------\u001b[0m",
      "\u001b[0;31mModuleNotFoundError\u001b[0m                       Traceback (most recent call last)",
      "Cell \u001b[0;32mIn[1], line 1\u001b[0m\n\u001b[0;32m----> 1\u001b[0m \u001b[38;5;28;01mfrom\u001b[39;00m \u001b[38;5;21;01mflowvision\u001b[39;00m\u001b[38;5;21;01m.\u001b[39;00m\u001b[38;5;21;01mmodels\u001b[39;00m\u001b[38;5;21;01m.\u001b[39;00m\u001b[38;5;21;01malexnet\u001b[39;00m \u001b[38;5;28;01mimport\u001b[39;00m alexnet\n\u001b[1;32m      2\u001b[0m model \u001b[38;5;241m=\u001b[39m alexnet()\n",
      "File \u001b[0;32m~/.cache/pants/named_caches/pex_root/venvs/s/f575dae5/venv/lib/python3.8/site-packages/flowvision/__init__.py:1\u001b[0m\n\u001b[0;32m----> 1\u001b[0m \u001b[38;5;28;01mfrom\u001b[39;00m \u001b[38;5;21;01mflowvision\u001b[39;00m \u001b[38;5;28;01mimport\u001b[39;00m layers\n\u001b[1;32m      2\u001b[0m \u001b[38;5;28;01mfrom\u001b[39;00m \u001b[38;5;21;01mflowvision\u001b[39;00m \u001b[38;5;28;01mimport\u001b[39;00m models\n\u001b[1;32m      3\u001b[0m \u001b[38;5;28;01mfrom\u001b[39;00m \u001b[38;5;21;01mflowvision\u001b[39;00m \u001b[38;5;28;01mimport\u001b[39;00m datasets\n",
      "File \u001b[0;32m~/.cache/pants/named_caches/pex_root/venvs/s/f575dae5/venv/lib/python3.8/site-packages/flowvision/layers/__init__.py:1\u001b[0m\n\u001b[0;32m----> 1\u001b[0m \u001b[38;5;28;01mfrom\u001b[39;00m \u001b[38;5;21;01m.\u001b[39;00m\u001b[38;5;21;01mattention\u001b[39;00m \u001b[38;5;28;01mimport\u001b[39;00m (\n\u001b[1;32m      2\u001b[0m     SEModule,\n\u001b[1;32m      3\u001b[0m     CbamModule,\n\u001b[1;32m      4\u001b[0m     SR_Attention,\n\u001b[1;32m      5\u001b[0m     NonLocalAttn,\n\u001b[1;32m      6\u001b[0m     BAMModule,\n\u001b[1;32m      7\u001b[0m     GlobalContext,\n\u001b[1;32m      8\u001b[0m     EcaModule,\n\u001b[1;32m      9\u001b[0m     GCTModule,\n\u001b[1;32m     10\u001b[0m     CoordAttModule,\n\u001b[1;32m     11\u001b[0m )\n\u001b[1;32m     12\u001b[0m \u001b[38;5;28;01mfrom\u001b[39;00m \u001b[38;5;21;01m.\u001b[39;00m\u001b[38;5;21;01mblocks\u001b[39;00m \u001b[38;5;28;01mimport\u001b[39;00m (\n\u001b[1;32m     13\u001b[0m     nms,\n\u001b[1;32m     14\u001b[0m     batched_nms,\n\u001b[0;32m   (...)\u001b[0m\n\u001b[1;32m     34\u001b[0m     roi_align,\n\u001b[1;32m     35\u001b[0m )\n\u001b[1;32m     36\u001b[0m \u001b[38;5;28;01mfrom\u001b[39;00m \u001b[38;5;21;01m.\u001b[39;00m\u001b[38;5;21;01mregularization\u001b[39;00m \u001b[38;5;28;01mimport\u001b[39;00m (\n\u001b[1;32m     37\u001b[0m     drop_path,\n\u001b[1;32m     38\u001b[0m     dropblock,\n\u001b[0;32m   (...)\u001b[0m\n\u001b[1;32m     42\u001b[0m     StochasticDepth,\n\u001b[1;32m     43\u001b[0m )\n",
      "File \u001b[0;32m~/.cache/pants/named_caches/pex_root/venvs/s/f575dae5/venv/lib/python3.8/site-packages/flowvision/layers/attention/__init__.py:1\u001b[0m\n\u001b[0;32m----> 1\u001b[0m \u001b[38;5;28;01mfrom\u001b[39;00m \u001b[38;5;21;01m.\u001b[39;00m\u001b[38;5;21;01mse\u001b[39;00m \u001b[38;5;28;01mimport\u001b[39;00m SEModule\n\u001b[1;32m      2\u001b[0m \u001b[38;5;28;01mfrom\u001b[39;00m \u001b[38;5;21;01m.\u001b[39;00m\u001b[38;5;21;01msr_attention\u001b[39;00m \u001b[38;5;28;01mimport\u001b[39;00m SR_Attention\n\u001b[1;32m      3\u001b[0m \u001b[38;5;28;01mfrom\u001b[39;00m \u001b[38;5;21;01m.\u001b[39;00m\u001b[38;5;21;01mnon_local_attn\u001b[39;00m \u001b[38;5;28;01mimport\u001b[39;00m NonLocalAttn\n",
      "File \u001b[0;32m~/.cache/pants/named_caches/pex_root/venvs/s/f575dae5/venv/lib/python3.8/site-packages/flowvision/layers/attention/se.py:3\u001b[0m\n\u001b[1;32m      1\u001b[0m \u001b[38;5;28;01mfrom\u001b[39;00m \u001b[38;5;21;01mtyping\u001b[39;00m \u001b[38;5;28;01mimport\u001b[39;00m Optional\n\u001b[0;32m----> 3\u001b[0m \u001b[38;5;28;01mimport\u001b[39;00m \u001b[38;5;21;01moneflow\u001b[39;00m \u001b[38;5;28;01mas\u001b[39;00m \u001b[38;5;21;01mflow\u001b[39;00m\n\u001b[1;32m      4\u001b[0m \u001b[38;5;28;01mimport\u001b[39;00m \u001b[38;5;21;01moneflow\u001b[39;00m\u001b[38;5;21;01m.\u001b[39;00m\u001b[38;5;21;01mnn\u001b[39;00m \u001b[38;5;28;01mas\u001b[39;00m \u001b[38;5;21;01mnn\u001b[39;00m\n\u001b[1;32m      5\u001b[0m \u001b[38;5;28;01mfrom\u001b[39;00m \u001b[38;5;21;01moneflow\u001b[39;00m\u001b[38;5;21;01m.\u001b[39;00m\u001b[38;5;21;01mnn\u001b[39;00m \u001b[38;5;28;01mimport\u001b[39;00m ReLU, Sigmoid\n",
      "\u001b[0;31mModuleNotFoundError\u001b[0m: No module named 'oneflow'"
     ]
    }
   ],
   "source": [
    "from flowvision.models.alexnet import alexnet\n",
    "model = alexnet()"
   ]
  },
  {
   "cell_type": "code",
   "execution_count": null,
   "id": "e001b788-e55b-4c19-bace-15dad0400806",
   "metadata": {},
   "outputs": [],
   "source": []
  }
 ],
 "metadata": {
  "kernelspec": {
   "display_name": "Python 3 (ipykernel)",
   "language": "python",
   "name": "python3"
  },
  "language_info": {
   "codemirror_mode": {
    "name": "ipython",
    "version": 3
   },
   "file_extension": ".py",
   "mimetype": "text/x-python",
   "name": "python",
   "nbconvert_exporter": "python",
   "pygments_lexer": "ipython3",
   "version": "3.8.10"
  }
 },
 "nbformat": 4,
 "nbformat_minor": 5
}
